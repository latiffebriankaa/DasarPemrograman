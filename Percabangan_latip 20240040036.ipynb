{
 "cells": [
  {
   "cell_type": "markdown",
   "id": "5854a90d-e435-44ae-9e31-3bc520e011b1",
   "metadata": {
    "id": "5854a90d-e435-44ae-9e31-3bc520e011b1"
   },
   "source": [
    "Buatlah program yang meminta pengguna memasukkan usia seseorang, lalu tentukan apakah dia <br>\n",
    "anak-anak (0-12 tahun), remaja (13-17 tahun), dewasa (18-59 tahun), atau lansia (60 tahun ke atas)."
   ]
  },
  {
   "cell_type": "code",
   "execution_count": 56,
   "id": "75a2fdcd-1ef1-45e4-9d79-c6a7cb708a18",
   "metadata": {
    "id": "75a2fdcd-1ef1-45e4-9d79-c6a7cb708a18"
   },
   "outputs": [
    {
     "name": "stdin",
     "output_type": "stream",
     "text": [
      "masukan usia anda :  20\n"
     ]
    },
    {
     "name": "stdout",
     "output_type": "stream",
     "text": [
      "usia anda 20 tahun adalah usia Dewasa \n"
     ]
    }
   ],
   "source": [
    "usia = int(input(\"masukan usia anda : \"))\n",
    "\n",
    "if 0 <= usia <= 12 :\n",
    "    print(f\"usia anda {usia} tahun adalah usia anak-anak\")\n",
    "elif 13 <= usia <=17 : \n",
    "    print(f\"usia anda {usia} tahun adalah usia Remaja \")\n",
    "elif 18 <= usia <=59 : \n",
    "    print(f\"usia anda {usia} tahun adalah usia Dewasa \")\n",
    "elif usia >= 60 :\n",
    "    print(f\"usia anda {usia} tahun adalah usia lansia \")\n",
    "else :\n",
    "    print(\"usia tidak bisa negatif :D \")"
   ]
  },
  {
   "cell_type": "markdown",
   "id": "68c95835-e4ad-4bd0-89ca-168200893cf7",
   "metadata": {
    "id": "68c95835-e4ad-4bd0-89ca-168200893cf7"
   },
   "source": [
    "Sebuah taman hiburan memiliki aturan harga tiket berdasarkan usia:\n",
    "<ol>\n",
    "<li>Anak-anak (0-12 tahun): Rp 10.000</li>\n",
    "<li>Remaja (13-17 tahun): Rp 15.000</li>\n",
    "<li>Dewasa (18-59 tahun): Rp 25.000</li>\n",
    "<li>Lansia (60 tahun ke atas): Gratis</li>\n",
    "</ol>\n",
    "Buat program untuk menentukan harga tiket berdasarkan usia yang dimasukkan pengguna dan total harga yang harus dibayar, jika terdapat 3 input seperti berikut ini"
   ]
  },
  {
   "cell_type": "code",
   "execution_count": 58,
   "id": "66ee699f-8355-48e0-939a-dcc73ba4425b",
   "metadata": {
    "id": "66ee699f-8355-48e0-939a-dcc73ba4425b"
   },
   "outputs": [
    {
     "name": "stdin",
     "output_type": "stream",
     "text": [
      "Isikan Umur Tiket 1: 20\n",
      "Isikan Umur Tiket 2:  1\n",
      "Isikan Umur Tiket 3:  2\n"
     ]
    },
    {
     "name": "stdout",
     "output_type": "stream",
     "text": [
      "Total harga yang harus dibayar: Rp 45000\n"
     ]
    }
   ],
   "source": [
    "tiket1 = int(input(\"Isikan Umur Tiket 1:\"))\n",
    "tiket2 = int(input(\"Isikan Umur Tiket 2: \"))\n",
    "tiket3 = int(input(\"Isikan Umur Tiket 3: \"))\n",
    "\n",
    "\n",
    "#tiket1\n",
    "if tiket1 < 0:\n",
    "    print(\"Usia tidak bisa negatif :(.\")\n",
    "else:\n",
    "    if tiket1 <= 12:\n",
    "        harga1 = 10000\n",
    "    elif 13 <= tiket1 <= 17:\n",
    "        harga1 = 15000\n",
    "    elif 18 <= tiket1 <= 59:\n",
    "        harga1 = 25000\n",
    "    else:\n",
    "        harga1 = 0\n",
    "\n",
    "    #tiket2    \n",
    "    if tiket2 < 0:\n",
    "        print(\"Usia tidak bisa negatif :(.\")\n",
    "    else:\n",
    "        if tiket2 <= 12:\n",
    "            harga2 = 10000\n",
    "        elif 13 <= tiket2 <= 17:\n",
    "            harga2 = 15000\n",
    "        elif 18 <= tiket2 <= 59:\n",
    "            harga2 = 25000\n",
    "        else:\n",
    "            harga2 = 0\n",
    "\n",
    "        #tiket3\n",
    "        if tiket3 < 0:\n",
    "            print(\"Usia tidak bisa negatif :(.\")\n",
    "        else:\n",
    "            if tiket3 <= 12:\n",
    "                harga3 = 10000\n",
    "            elif 13 <= tiket3 <= 17:\n",
    "                harga3 = 15000\n",
    "            elif 18 <= tiket3 <= 59:\n",
    "                harga3 = 25000\n",
    "            else:\n",
    "                harga3 = 0\n",
    "\n",
    "            totalHarga = harga1 + harga2 + harga3\n",
    "            print(f\"Total harga yang harus dibayar: Rp {totalHarga}\")"
   ]
  },
  {
   "cell_type": "markdown",
   "id": "82eac646-d930-42f5-a253-03f84c32f943",
   "metadata": {
    "id": "82eac646-d930-42f5-a253-03f84c32f943"
   },
   "source": [
    "Sebuah restoran memiliki diskon khusus:\n",
    "Anak-anak (0-12 tahun) diskon 50%\n",
    "Lansia (60 tahun ke atas) diskon 30%\n",
    "Selain itu, tidak ada diskon\n",
    "Buat program untuk menghitung harga yang harus dibayar setelah diskon diberikan."
   ]
  },
  {
   "cell_type": "code",
   "execution_count": 60,
   "id": "feb31fca-fce6-4e5f-a25f-8752e7a0033b",
   "metadata": {
    "id": "feb31fca-fce6-4e5f-a25f-8752e7a0033b"
   },
   "outputs": [
    {
     "name": "stdin",
     "output_type": "stream",
     "text": [
      "Masukkan harga makanan: Rp  10\n",
      "Masukkan usia pengunjung:  10\n"
     ]
    },
    {
     "name": "stdout",
     "output_type": "stream",
     "text": [
      "Harga awal: Rp 10.0\n",
      "Diskon: 50.0%\n",
      "Harga yang harus dibayar setelah diskon: Rp 5.0\n"
     ]
    }
   ],
   "source": [
    "harga_awal = float(input(\"Masukkan harga makanan: Rp \"))\n",
    "usia = int(input(\"Masukkan usia pengunjung: \"))\n",
    "\n",
    "if usia < 0:\n",
    "    print(\"Usia tidak bisa negatif :( .\")\n",
    "else:\n",
    "    if usia <= 12:\n",
    "        diskon = 0.50 \n",
    "    elif usia >= 60:\n",
    "        diskon = 0.30 \n",
    "    else:\n",
    "        diskon = 0.0  \n",
    "\n",
    "    harga_setelah_diskon = harga_awal * (1 - diskon)\n",
    "\n",
    "    print(f\"Harga awal: Rp {harga_awal}\")\n",
    "    print(f\"Diskon: {diskon * 100}%\")\n",
    "    print(f\"Harga yang harus dibayar setelah diskon: Rp {harga_setelah_diskon:}\")"
   ]
  },
  {
   "cell_type": "markdown",
   "id": "aee8bab3-9bf1-4732-97e1-7abb32ce7184",
   "metadata": {
    "id": "aee8bab3-9bf1-4732-97e1-7abb32ce7184"
   },
   "source": [
    "Program beasiswa:\n",
    "<ol>\n",
    "<li>Jika nilai rapor ≥ 90 dan penghasilan orang tua < Rp 5.000.000 → Beasiswa Penuh</li>\n",
    "<li>Jika nilai rapor ≥ 85 dan penghasilan orang tua < Rp 8.000.000 → Beasiswa 50%</li>\n",
    "<li>Jika tidak memenuhi syarat di atas → Tidak mendapatkan beasiswa</li>\n",
    "</ol>"
   ]
  },
  {
   "cell_type": "code",
   "execution_count": 62,
   "id": "55a9ec4f-531b-4326-bca3-e0d19b4be47d",
   "metadata": {
    "id": "55a9ec4f-531b-4326-bca3-e0d19b4be47d"
   },
   "outputs": [
    {
     "name": "stdin",
     "output_type": "stream",
     "text": [
      "Masukan Nilai Rapot anda :  10\n",
      "masukan penghasilan anda :  10\n"
     ]
    },
    {
     "name": "stdout",
     "output_type": "stream",
     "text": [
      "nilai anda 10 dan penghasilan orang tua 10 anda tidak mendapatkan beasiswa \n"
     ]
    }
   ],
   "source": [
    "nilai_rapot = int(input(\"Masukan Nilai Rapot anda : \"))\n",
    "Penghasilan_ortu = int(input(\"masukan penghasilan anda : \"))\n",
    "\n",
    "if nilai_rapot < 0 or Penghasilan_ortu <0 :\n",
    "    print(\"inputan tidak boleh negatif(-) :(\")\n",
    "elif nilai_rapot > 100 : \n",
    "    print(\"nilai tidak bisa lebih dari 100\")\n",
    "else :\n",
    "    if nilai_rapot >= 90 and Penghasilan_ortu <=5_000_000 :\n",
    "        print(f\"nilai anda {nilai_rapot} dan penghasilan orang tua {Penghasilan_ortu} anda berhak mendapatkan beasiswa penuh\")\n",
    "    elif nilai_rapot >=85 and Penghasilan_ortu <= 8_000_000 :\n",
    "        print(f\"nilai anda {nilai_rapot} dan penghasilan orang tua {Penghasilan_ortu} anda berhak mendapatkan beasiswa 50 % \")\n",
    "    else :\n",
    "        print(f\"nilai anda {nilai_rapot} dan penghasilan orang tua {Penghasilan_ortu} anda tidak mendapatkan beasiswa \")"
   ]
  },
  {
   "cell_type": "markdown",
   "id": "57ea9062-e1af-4650-8eab-a47a01a9d04f",
   "metadata": {
    "id": "57ea9062-e1af-4650-8eab-a47a01a9d04f"
   },
   "source": [
    "Suatu aplikasi streaming memiliki batasan usia:\n",
    "<ol>\n",
    "<li>Film Semua Umur: Bisa ditonton oleh siapa saja</li>\n",
    "<li>Film Remaja: Hanya untuk usia ≥ 13 tahun</li>\n",
    "<li>Film Dewasa: Hanya untuk usia ≥ 18 tahun</li>\n",
    "</ol>\n",
    "Buat program yang meminta input usia dan kategori film, lalu tentukan apakah seseorang boleh menonton film tersebut atau tidak."
   ]
  },
  {
   "cell_type": "code",
   "execution_count": 61,
   "id": "2c00f464-3390-4c94-9ec2-4b63c55b871b",
   "metadata": {
    "id": "2c00f464-3390-4c94-9ec2-4b63c55b871b"
   },
   "outputs": [
    {
     "name": "stdin",
     "output_type": "stream",
     "text": [
      "Masukkan usia Anda:  10\n",
      "Masukkan kategori film (Semua Umur, Remaja, Dewasa):  asf\n"
     ]
    },
    {
     "name": "stdout",
     "output_type": "stream",
     "text": [
      "Kategori film tidak valid. Silakan masukkan 'Semua Umur', 'Remaja', atau 'Dewasa'.\n"
     ]
    }
   ],
   "source": [
    "usia = int(input(\"Masukkan usia Anda: \"))\n",
    "\n",
    "if usia < 0:\n",
    "    print(\"Usia tidak bisa negatif.\")\n",
    "else:\n",
    "    kategori_film = input(\"Masukkan kategori film (Semua Umur, Remaja, Dewasa): \").strip().lower()\n",
    "\n",
    "    if kategori_film == \"semua umur\":\n",
    "        print(f\"Umur anda {usia} tahun boleh menonton film semua umur.\")\n",
    "    elif kategori_film == \"remaja\":\n",
    "        if usia >= 13:\n",
    "            print(f\"Umur anda {usia} tahun boleh menonton film remaja.\")\n",
    "        else:\n",
    "            print(f\"Umur anda {usia} tahun tidak boleh menonton film remaja.\")\n",
    "    elif kategori_film == \"dewasa\":\n",
    "        if usia >= 18:\n",
    "            print(f\"Umur anda {usia} tahun boleh menonton film dewasa.\")\n",
    "        else:\n",
    "            print(f\"Umur anda {usia} tahun tidak boleh menonton film dewasa.\")\n",
    "    else:\n",
    "        print(\"Kategori film tidak valid. Silakan masukkan 'Semua Umur', 'Remaja', atau 'Dewasa'.\")"
   ]
  },
  {
   "cell_type": "markdown",
   "id": "7b87c04c-85f0-4dc1-a14a-f67d8b2c4e6a",
   "metadata": {
    "id": "7b87c04c-85f0-4dc1-a14a-f67d8b2c4e6a"
   },
   "source": [
    "Sebuah toko memberikan diskon berdasarkan jumlah pembelian:\n",
    "<ol>\n",
    "<li>Jika total belanja ≥ Rp 500.000 → Diskon 20%</li>\n",
    "<li>Jika total belanja ≥ Rp 250.000 → Diskon 10%</li>\n",
    "<li>Jika total belanja < Rp 250.000 → Tidak ada diskon</li>\n",
    "</ol>\n",
    "Hitung harga akhir setelah diskon."
   ]
  },
  {
   "cell_type": "code",
   "execution_count": 65,
   "id": "966923a0-c87b-4559-8fc1-3090d448ad4a",
   "metadata": {
    "id": "966923a0-c87b-4559-8fc1-3090d448ad4a"
   },
   "outputs": [
    {
     "name": "stdin",
     "output_type": "stream",
     "text": [
      "Masukkan total belanja Anda: Rp  1000000\n"
     ]
    },
    {
     "name": "stdout",
     "output_type": "stream",
     "text": [
      "Total belanja: Rp 1000000.00\n",
      "Diskon: 20%\n",
      "Harga akhir setelah diskon: Rp 800000.00\n"
     ]
    }
   ],
   "source": [
    "total_belanja = float(input(\"Masukkan total belanja Anda: Rp \"))\n",
    "\n",
    "if total_belanja < 0:\n",
    "    print(\"Total belanja tidak boleh negatif.\")\n",
    "else:\n",
    "    if total_belanja >= 500_000:\n",
    "        diskon = 0.20  \n",
    "    elif total_belanja >= 250_000:\n",
    "        diskon = 0.10 \n",
    "    else:\n",
    "        diskon = 0.0\n",
    "\n",
    "    harga_akhir = total_belanja * (1 - diskon)\n",
    "\n",
    "    \n",
    "    print(f\"Total belanja: Rp {total_belanja:.2f}\")\n",
    "    print(f\"Diskon: {diskon * 100:.0f}%\")\n",
    "    print(f\"Harga akhir setelah diskon: Rp {harga_akhir:.2f}\")"
   ]
  },
  {
   "cell_type": "markdown",
   "id": "88e22629-48cc-4917-86e7-2bf4df863182",
   "metadata": {
    "id": "88e22629-48cc-4917-86e7-2bf4df863182"
   },
   "source": [
    "Program parkir:\n",
    "<ol>\n",
    "<li>Mobil: Rp 5.000 per jam</li>\n",
    "<li>Motor: Rp 2.000 per jam</li>\n",
    "<li>Jika parkir lebih dari 5 jam, ada biaya tambahan Rp 10.000</li>\n",
    "</ol>\n",
    "Hitung total biaya parkir berdasarkan jenis kendaraan dan durasi parkir."
   ]
  },
  {
   "cell_type": "code",
   "execution_count": 25,
   "id": "b8f7b918-70a1-4a88-945f-406c4aafbec7",
   "metadata": {
    "id": "b8f7b918-70a1-4a88-945f-406c4aafbec7"
   },
   "outputs": [
    {
     "name": "stdin",
     "output_type": "stream",
     "text": [
      "Masukkan jenis kendaraan (mobil/motor):  truk\n",
      "Masukkan durasi parkir (dalam jam):  5\n"
     ]
    },
    {
     "name": "stdout",
     "output_type": "stream",
     "text": [
      "Silakan masukkan 'mobil' atau 'motor'.\n"
     ]
    }
   ],
   "source": [
    "jenis_kendaraan = input(\"Masukkan jenis kendaraan (mobil/motor): \").strip().lower()\n",
    "durasi_parkir = int(input(\"Masukkan durasi parkir (dalam jam): \"))\n",
    "\n",
    "if durasi_parkir < 0:\n",
    "    print(\"Durasi parkir tidak boleh negatif.\")\n",
    "else:\n",
    "    if jenis_kendaraan == \"mobil\":\n",
    "        tarif_per_jam = 5000\n",
    "    elif jenis_kendaraan == \"motor\":\n",
    "        tarif_per_jam = 2000\n",
    "    else:\n",
    "        print(\"Silakan masukkan 'mobil' atau 'motor'.\")\n",
    "        tarif_per_jam = None\n",
    "\n",
    "    if tarif_per_jam is not None:\n",
    "        \n",
    "        total_biaya = durasi_parkir * tarif_per_jam\n",
    "\n",
    "        if durasi_parkir > 5:\n",
    "            total_biaya += 10000\n",
    "\n",
    "        print(f\"Total biaya parkir untuk {jenis_kendaraan} selama {durasi_parkir} jam: Rp {total_biaya}\")"
   ]
  },
  {
   "cell_type": "markdown",
   "id": "2db1d34c-3f80-4f8c-aaf2-910c38c05414",
   "metadata": {
    "id": "2db1d34c-3f80-4f8c-aaf2-910c38c05414"
   },
   "source": [
    "Aplikasi transportasi online memiliki tarif sebagai berikut:\n",
    "<ol>\n",
    "<li>Jika jarak ≤ 5 km → Rp 5.000/km</li>\n",
    "<li>Jika jarak 6-10 km → Rp 4.000/km</li>\n",
    "<li>Jika jarak > 10 km → Rp 3.000/km</li>\n",
    "</ol>\n",
    "Hitung tarif perjalanan berdasarkan jarak yang dimasukkan pengguna.\n"
   ]
  },
  {
   "cell_type": "code",
   "execution_count": 33,
   "id": "5a5b719e-76f6-4f45-a8e4-07853113ce9e",
   "metadata": {
    "id": "5a5b719e-76f6-4f45-a8e4-07853113ce9e"
   },
   "outputs": [
    {
     "name": "stdin",
     "output_type": "stream",
     "text": [
      "Masukkan jarak perjalanan (dalam km):  -10\n"
     ]
    },
    {
     "name": "stdout",
     "output_type": "stream",
     "text": [
      "Jarak tidak boleh negatif.\n"
     ]
    }
   ],
   "source": [
    "jarak = int(input(\"Masukkan jarak perjalanan (dalam km): \"))\n",
    "\n",
    "if jarak < 0:\n",
    "    print(\"Jarak tidak boleh negatif.\")\n",
    "else:\n",
    "    if jarak <= 5:\n",
    "        tarif_per_km = 5_000  \n",
    "    elif 6 <= jarak <= 10:\n",
    "        tarif_per_km = 4_000  \n",
    "    else:\n",
    "        tarif_per_km = 3_000 \n",
    "\n",
    "    total_tarif = jarak * tarif_per_km\n",
    "\n",
    "    print(f\"Total tarif perjalanan untuk jarak {jarak} km: Rp {total_tarif:.2f}\")"
   ]
  },
  {
   "cell_type": "markdown",
   "id": "d1cf7b61-e309-40ec-b1fd-4bc56550a10d",
   "metadata": {
    "id": "d1cf7b61-e309-40ec-b1fd-4bc56550a10d"
   },
   "source": [
    "Buatlah sebuah sistem penerimaan calon programmer yang akan menerima dua nilai ( nilai coding dan nilai interview). Untuk penilaian test coding skala penilaian yang diberikan dimulai dari 0 hingga 100 dengan sistem penilaian:\n",
    "<ol>\n",
    "<li>ketika seseorang mendapatkan nilai lebih dari 80 maka peserta tersebut akan mendapatkan hasil tes LOLOS</li>\n",
    "<li>ketika sesorang mendapatkan nilai diantara 60 hingga 80 maka peserta tersebut mendapatkan hasil tes DIPERTIMBANGKAN</li>\n",
    "<li>ketika seseorang mendapatkan nilai dibawah 60 maka peserta tersebut mendapatkan hasil tes GAGAL.</li>\n",
    "</ol>\n",
    "\n",
    "Sedangkan untuk penilaian interview adalah\n",
    "<ol>\n",
    "<li>ketika nilai yang diberikan kepada seseorang tersebut adalah \"A\" atau \"B\" maka peserta tersebut dianggap LOLOS interview</li>\n",
    "\n",
    "<li>selain kedua nilai tersebut maka peserta dianggap GAGAL tes interview.</li>\n",
    "</ol>\n",
    "\n",
    "Ketika calon programmer mendapatkan nilai coding LOLOS atau DIPERTIMBANGKAN dan juga LOLOS test interview maka tampilkanlah pesan \"Selamat Kamu Berhasil Menjadi Calon Programmer\". Jika tidak maka tampilkanlah pesan \"Maaf Kamu Belum Berhasil Menjadi Calon Programmer\""
   ]
  },
  {
   "cell_type": "code",
   "execution_count": 45,
   "id": "7aeb0f89-e957-4c0d-a29c-139fc269e1c0",
   "metadata": {
    "id": "7aeb0f89-e957-4c0d-a29c-139fc269e1c0"
   },
   "outputs": [
    {
     "name": "stdin",
     "output_type": "stream",
     "text": [
      "Masukkan nilai coding (0-100):  100\n",
      "Masukkan nilai interview (A/B/C/D):  a\n"
     ]
    },
    {
     "name": "stdout",
     "output_type": "stream",
     "text": [
      "Selamat Kamu Berhasil Menjadi Calon Programmer\n"
     ]
    }
   ],
   "source": [
    "nilai_coding = float(input(\"Masukkan nilai coding (0-100): \"))\n",
    "nilai_interview = input(\"Masukkan nilai interview (A/B/C/D): \").strip().upper()\n",
    "\n",
    "if nilai_coding < 0 or nilai_coding > 100:\n",
    "    print(\"Nilai coding harus antara 0 hingga 100.\")\n",
    "else:\n",
    "    # hasil tes coding\n",
    "    if nilai_coding > 80:\n",
    "        hasil_coding = \"LOLOS\"\n",
    "    elif 60 <= nilai_coding <= 80:\n",
    "        hasil_coding = \"DIPERTIMBANGKAN\"\n",
    "    else:\n",
    "        hasil_coding = \"GAGAL\"\n",
    "\n",
    "    # hasil tes interview\n",
    "    if nilai_interview in [\"A\", \"B\"]:\n",
    "        hasil_interview = \"LOLOS\"\n",
    "    elif nilai_interview in [\"C\", \"D\"]:\n",
    "        hasil_interview = \"GAGAL\"\n",
    "    else:\n",
    "        print(\"Input salah! Nilai interview harus A, B, C, atau D.\")\n",
    "        hasil_interview = None  \n",
    "\n",
    "    # kelulusan keseluruhan\n",
    "    if hasil_interview is not None:\n",
    "        if (hasil_coding == \"LOLOS\" or hasil_coding == \"DIPERTIMBANGKAN\") and hasil_interview == \"LOLOS\":\n",
    "            print(\"Selamat Kamu Berhasil Menjadi Calon Programmer\")\n",
    "        else:\n",
    "            print(\"Maaf Kamu Belum Berhasil Menjadi Calon Programmer\")"
   ]
  },
  {
   "cell_type": "markdown",
   "id": "364647af-075b-4bc0-8c83-4c816415ff74",
   "metadata": {
    "id": "364647af-075b-4bc0-8c83-4c816415ff74"
   },
   "source": [
    "Sebuah klub sepak bola “PERSEGI FC” mempunyai aturan dalam memberikan nomor punggung bagi para pemainnya. Para pemain diperbolehkan mempunyai posisi lebih dari 1. Berikut adalah beberapa\n",
    "aturannya:\n",
    "<ol>\n",
    "<li>Untuk nomor punggung genap, digunakan untuk posisi “target attacker”</li>\n",
    "<li>Untuk nomor punggung genap antara 50 – 100, digunakan untuk pemain yang “berhak dipilih menjadi capten team”</li>\n",
    "<li>Untuk nomor punggung ganjil, digunakan untuk posisi “defender”</li>\n",
    "<li>Untuk nomor punggung ganjil lebih dari 90, digunakan untuk posisi “Playmaker”</li>\n",
    "<li>Untuk nomor punggung ganjil kelipatan dari 3 dan 5, digunakan untuk posisi “keeper”</li>\n",
    "</ol>\n",
    "Buatlah program untuk melakukan pengecekan sebuah nomor punggung dapat berfungsi sebagai posisi apa saja."
   ]
  },
  {
   "cell_type": "code",
   "execution_count": 50,
   "id": "2d1d5589-126b-44e3-9d9e-1bed865ff65c",
   "metadata": {
    "id": "2d1d5589-126b-44e3-9d9e-1bed865ff65c"
   },
   "outputs": [
    {
     "name": "stdin",
     "output_type": "stream",
     "text": [
      "Masukkan nomor punggung pemain:  -1\n"
     ]
    },
    {
     "name": "stdout",
     "output_type": "stream",
     "text": [
      "Input salah! Nomor punggung harus lebih dari 0.\n"
     ]
    }
   ],
   "source": [
    "nomor_punggung = int(input(\"Masukkan nomor punggung pemain: \"))\n",
    "\n",
    "if nomor_punggung < 1:\n",
    "    print(\"Nomor punggung harus lebih dari 0.\")\n",
    "else:\n",
    "    posisi = []\n",
    "\n",
    "    #nomor punggung genap\n",
    "    if nomor_punggung % 2 == 0:\n",
    "        posisi.append(\"target attacker\")\n",
    "        if 50 <= nomor_punggung <= 100:\n",
    "            posisi.append(\"capten team\")\n",
    "\n",
    "    #nomor punggung ganjil\n",
    "    if nomor_punggung % 2 != 0:\n",
    "        posisi.append(\"defender\")\n",
    "        if nomor_punggung > 90:\n",
    "            posisi.append(\"playmaker\")\n",
    "        if nomor_punggung % 3 == 0 and nomor_punggung % 5 == 0:\n",
    "            posisi.append(\"keeper\")\n",
    "\n",
    "    #hasil\n",
    "    if posisi:\n",
    "        print(f\"Nomor punggung {nomor_punggung} dapat digunakan untuk posisi: {', '.join(posisi)}.\")\n",
    "    else:\n",
    "        print(f\"Nomor punggung {nomor_punggung} tidak memenuhi syarat untuk posisi manapun.\")"
   ]
  },
  {
   "cell_type": "code",
   "execution_count": null,
   "id": "92819ac1-98b9-487a-9521-c87ab1f2e200",
   "metadata": {},
   "outputs": [],
   "source": []
  }
 ],
 "metadata": {
  "colab": {
   "provenance": []
  },
  "kernelspec": {
   "display_name": "Python [conda env:base] *",
   "language": "python",
   "name": "conda-base-py"
  },
  "language_info": {
   "codemirror_mode": {
    "name": "ipython",
    "version": 3
   },
   "file_extension": ".py",
   "mimetype": "text/x-python",
   "name": "python",
   "nbconvert_exporter": "python",
   "pygments_lexer": "ipython3",
   "version": "3.12.7"
  }
 },
 "nbformat": 4,
 "nbformat_minor": 5
}
