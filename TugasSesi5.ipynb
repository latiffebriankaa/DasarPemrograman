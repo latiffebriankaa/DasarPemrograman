{
 "cells": [
  {
   "cell_type": "markdown",
   "id": "531af620-df52-414a-bc8c-e933d83a18c1",
   "metadata": {},
   "source": [
    "<h1>1. Biodata Sederhana</h1>"
   ]
  },
  {
   "cell_type": "code",
   "execution_count": 24,
   "id": "71bfa776-8627-4c2e-ad5a-c9ce02ed1ce0",
   "metadata": {},
   "outputs": [
    {
     "name": "stdin",
     "output_type": "stream",
     "text": [
      "Masukkan nama Anda:  latip\n",
      "Masukkan umur Anda:  21\n",
      "Masukkan alamat Anda:  citamiang\n",
      "Masukkan hobi Anda:  mendaki\n",
      "Masukkan kampus Anda:  universitas nusaputra\n"
     ]
    },
    {
     "name": "stdout",
     "output_type": "stream",
     "text": [
      "\n",
      "Biodata Anda:\n",
      " Nama: latip\n",
      "Umur: 21\n",
      "Alamat: citamiang\n",
      "Hobi: mendaki\n",
      "Kampus: universitas nusaputra\n",
      "\n",
      "Biodata Anda:\n",
      " Nama: latip\n",
      "Umur: 21\n",
      "Alamat: citamiang\n",
      "Hobi: mendaki\n",
      "Kampus: universitas nusaputra\n",
      "\n",
      "Biodata Anda:\n",
      " Nama: latip\n",
      "Umur: 21\n",
      "Alamat: citamiang\n",
      "Hobi: mendaki\n",
      "Kampus: universitas nusaputra\n"
     ]
    }
   ],
   "source": [
    "nama = input(\"Masukkan nama Anda: \")\n",
    "umur = input(\"Masukkan umur Anda: \")\n",
    "alamat = input(\"Masukkan alamat Anda: \")\n",
    "hobi = input(\"Masukkan hobi Anda: \")\n",
    "Kampus = input(\"Masukkan kampus Anda: \")\n",
    "#1 \n",
    "biodata = \"Nama: {}\\nUmur: {}\\nAlamat: {}\\nHobi: {}\\nKampus: {}\".format(nama, umur, alamat, hobi, Kampus)\n",
    "print(\"\\nBiodata Anda:\\n\", biodata)\n",
    "#2 \n",
    "biodata = \"Nama: {0}\\nUmur: {1}\\nAlamat: {2}\\nHobi: {3}\\nKampus: {4}\".format(nama, umur, alamat, hobi, Kampus)\n",
    "print(\"\\nBiodata Anda:\\n\", biodata)\n",
    "#3\n",
    "biodata = \"Nama: {n}\\nUmur: {u}\\nAlamat: {a}\\nHobi: {h}\\nKampus: {k}\".format(n=nama, u=umur, a=alamat, h=hobi, k=Kampus)\n",
    "print(\"\\nBiodata Anda:\\n\", biodata)"
   ]
  },
  {
   "cell_type": "markdown",
   "id": "eee6de7c-4fc6-4452-ae4a-a9ebc49b4649",
   "metadata": {},
   "source": [
    "<h1>2.manipulasi String</h1>"
   ]
  },
  {
   "cell_type": "code",
   "execution_count": 26,
   "id": "edf1804a-11a3-4eb4-aec8-8a7b2f0fc250",
   "metadata": {},
   "outputs": [
    {
     "name": "stdout",
     "output_type": "stream",
     "text": [
      "a. putra nusa\n",
      "b. NIVERSITAS NSA PTRA SKABMI\n",
      "c. SUKABUMI PUTRA NUSA UNIVERSITAS\n",
      "d. UNPS\n",
      "e. TAS SAPU BUMI\n"
     ]
    }
   ],
   "source": [
    "kalimat = \"UNIVERSITAS NUSA PUTRA SUKABUMI\"\n",
    "\n",
    "\n",
    "# a. putra nusa\n",
    "KataKalimat = kalimat.split()\n",
    "a = f\"{kata_kalimat[2].lower()} {KataKalimat[1].lower()}\"\n",
    "print(\"a.\", a)\n",
    "\n",
    "\n",
    "# b. NIVERSITAS NSA PTRA SKABMI\n",
    "b = kalimat.replace(\"U\", \"\").replace(\"U\", \"\")\n",
    "print(\"b.\", b)\n",
    "\n",
    "# c. SUKABUMI PUTRA NUSA UNIVERSITAS\n",
    "c = \" \".join(kalimat.split()[::-1])\n",
    "print(\"c.\", c)\n",
    "\n",
    "# d. UNPS\n",
    "d = \"\".join([kata[0] for kata in kalimat.split()])\n",
    "print(\"d.\", d)\n",
    "\n",
    "# e. TAS SAPU BUMI\n",
    "e = kalimat[8:11] + \" \" + kalimat[14:19].replace(\" \", \"\") + \" \" + kalimat[-4:]\n",
    "print(\"e.\", e)"
   ]
  },
  {
   "cell_type": "code",
   "execution_count": null,
   "id": "f11d9619-adae-4bdf-90b2-3d1c69a2c29d",
   "metadata": {},
   "outputs": [],
   "source": []
  }
 ],
 "metadata": {
  "kernelspec": {
   "display_name": "Python [conda env:base] *",
   "language": "python",
   "name": "conda-base-py"
  },
  "language_info": {
   "codemirror_mode": {
    "name": "ipython",
    "version": 3
   },
   "file_extension": ".py",
   "mimetype": "text/x-python",
   "name": "python",
   "nbconvert_exporter": "python",
   "pygments_lexer": "ipython3",
   "version": "3.12.7"
  }
 },
 "nbformat": 4,
 "nbformat_minor": 5
}
