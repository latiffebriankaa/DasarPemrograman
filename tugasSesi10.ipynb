{
 "cells": [
  {
   "cell_type": "code",
   "execution_count": 3,
   "id": "16a16206-c79d-421b-a4c5-85ffc3dd667a",
   "metadata": {},
   "outputs": [],
   "source": [
    "#importan library\n",
    "import numpy as np\n",
    "import pandas as pd"
   ]
  },
  {
   "cell_type": "code",
   "execution_count": 5,
   "id": "73d23c3c-05e4-4f0a-9954-44f5181a0f35",
   "metadata": {},
   "outputs": [],
   "source": [
    "#data\n",
    "jumlahdata = 1000\n",
    "umur = np.random.randint(23,35, size = jumlahdata)\n",
    "gender = np.random.choice(['L','P'],size = jumlahdata)\n",
    "pendidikan = np.random.choice(['SMA','SMK','Sarjana','Magister'],size = jumlahdata)\n",
    "Bahasa_Pemrograman = np.random.choice(['java','python','javaScript','C++','C#'],size = jumlahdata)\n",
    "Peran_pekerjaan = np.random.choice(['Backend Developer','Frontend Developer','Fullstack Developer','Data Scientist','UI/UX'],size = jumlahdata)\n",
    "gaji = np.random.choice([6000000, 3000000, 4000000, 5000000], size=jumlahdata)\n",
    "tempat_kerja = np.random.choice(['rumah/remote','office/kantor'],size = jumlahdata)\n",
    "Jabatan_kerja = np.random.choice(['junior','Mid','Senior','Leader'],size = jumlahdata)\n",
    "Sertifikasi = np.random.randint(0,10, size = jumlahdata)\n",
    "TugasSelesai = np.random.randint(0,20, size = jumlahdata)\n",
    "\n",
    "df = pd.DataFrame({\n",
    "    'umur' : umur,\n",
    "    'gender' : gender,\n",
    "    'pendidikan' : pendidikan,\n",
    "    'Bahasa pemrograman' : Bahasa_Pemrograman,\n",
    "    'peran pekerjaan' : Peran_pekerjaan,\n",
    "    'gaji' : gaji,\n",
    "    'tempat kerja' : tempat_kerja,\n",
    "    'Jabatan kerja' : Jabatan_kerja,\n",
    "    'Sertifikasi' : Sertifikasi,\n",
    "    'Tugas yang telah di Selesaikan' : TugasSelesai,\n",
    "})"
   ]
  },
  {
   "cell_type": "code",
   "execution_count": 7,
   "id": "bd9b618e-603e-4283-9cb8-f2935414627a",
   "metadata": {},
   "outputs": [
    {
     "name": "stdout",
     "output_type": "stream",
     "text": [
      "     umur gender pendidikan Bahasa pemrograman      peran pekerjaan     gaji  \\\n",
      "0      31      L        SMK             python    Backend Developer  3000000   \n",
      "1      30      L   Magister                C++       Data Scientist  6000000   \n",
      "2      33      P   Magister             python                UI/UX  4000000   \n",
      "3      23      P    Sarjana             python                UI/UX  5000000   \n",
      "4      29      P   Magister         javaScript  Fullstack Developer  6000000   \n",
      "..    ...    ...        ...                ...                  ...      ...   \n",
      "995    24      P    Sarjana                 C#    Backend Developer  6000000   \n",
      "996    31      L        SMK                C++    Backend Developer  5000000   \n",
      "997    28      L        SMA         javaScript   Frontend Developer  3000000   \n",
      "998    33      P        SMK                C++       Data Scientist  5000000   \n",
      "999    26      P   Magister         javaScript                UI/UX  4000000   \n",
      "\n",
      "      tempat kerja Jabatan kerja  Sertifikasi  Tugas yang telah di Selesaikan  \n",
      "0    office/kantor        Senior            2                              12  \n",
      "1     rumah/remote           Mid            1                              11  \n",
      "2     rumah/remote        Leader            6                              14  \n",
      "3     rumah/remote        junior            3                               0  \n",
      "4     rumah/remote        Senior            6                              10  \n",
      "..             ...           ...          ...                             ...  \n",
      "995  office/kantor        Leader            3                              12  \n",
      "996   rumah/remote        Senior            7                               5  \n",
      "997  office/kantor        Senior            0                               2  \n",
      "998   rumah/remote        Leader            5                               4  \n",
      "999   rumah/remote        junior            3                               3  \n",
      "\n",
      "[1000 rows x 10 columns]\n",
      "<class 'pandas.core.frame.DataFrame'>\n",
      "RangeIndex: 1000 entries, 0 to 999\n",
      "Data columns (total 10 columns):\n",
      " #   Column                          Non-Null Count  Dtype \n",
      "---  ------                          --------------  ----- \n",
      " 0   umur                            1000 non-null   int32 \n",
      " 1   gender                          1000 non-null   object\n",
      " 2   pendidikan                      1000 non-null   object\n",
      " 3   Bahasa pemrograman              1000 non-null   object\n",
      " 4   peran pekerjaan                 1000 non-null   object\n",
      " 5   gaji                            1000 non-null   int32 \n",
      " 6   tempat kerja                    1000 non-null   object\n",
      " 7   Jabatan kerja                   1000 non-null   object\n",
      " 8   Sertifikasi                     1000 non-null   int32 \n",
      " 9   Tugas yang telah di Selesaikan  1000 non-null   int32 \n",
      "dtypes: int32(4), object(6)\n",
      "memory usage: 62.6+ KB\n",
      "None\n",
      "   umur gender pendidikan Bahasa pemrograman      peran pekerjaan     gaji  \\\n",
      "0    31      L        SMK             python    Backend Developer  3000000   \n",
      "1    30      L   Magister                C++       Data Scientist  6000000   \n",
      "2    33      P   Magister             python                UI/UX  4000000   \n",
      "3    23      P    Sarjana             python                UI/UX  5000000   \n",
      "4    29      P   Magister         javaScript  Fullstack Developer  6000000   \n",
      "\n",
      "    tempat kerja Jabatan kerja  Sertifikasi  Tugas yang telah di Selesaikan  \n",
      "0  office/kantor        Senior            2                              12  \n",
      "1   rumah/remote           Mid            1                              11  \n",
      "2   rumah/remote        Leader            6                              14  \n",
      "3   rumah/remote        junior            3                               0  \n",
      "4   rumah/remote        Senior            6                              10  \n",
      "\n",
      "usia Developer termuda : 23\n",
      "usia Developer tertua : 34\n",
      "usia rata-rata developer : 28\n"
     ]
    }
   ],
   "source": [
    "# menampilkan karakteristik data, 5 tabl baris pertama,umur termuda,tertua dan rata rata umur developer\n",
    "print(df)\n",
    "print(df.info()) #menampilkan karakteristik data\n",
    "print(df.head()) \n",
    "print(\"\")\n",
    "print(f\"usia Developer termuda : {df['umur'].min()}\")\n",
    "print(f\"usia Developer tertua : {df['umur'].max()}\")\n",
    "print(f\"usia rata-rata developer : {df['umur'].mean().astype(int)}\")"
   ]
  },
  {
   "cell_type": "code",
   "execution_count": 9,
   "id": "76b24230-5fdf-45de-8aa0-b6c0f49d86e5",
   "metadata": {},
   "outputs": [
    {
     "name": "stdout",
     "output_type": "stream",
     "text": [
      "jumlah Developer yang bekerja dirumah/remote : 528\n",
      "jumlah Developer yang bekerja dioffice/kantor : 472\n"
     ]
    }
   ],
   "source": [
    "#menampilakan jumalah developer yang bekerja secara remote dan kerja offline\n",
    "jmlRemote = df[df['tempat kerja']=='rumah/remote']\n",
    "print(f\"jumlah Developer yang bekerja dirumah/remote : {jmlRemote['tempat kerja'].size}\")\n",
    "\n",
    "jmlRumah = df[df['tempat kerja']=='office/kantor']\n",
    "print(f\"jumlah Developer yang bekerja dioffice/kantor : {jmlRumah['tempat kerja'].size}\")\n"
   ]
  },
  {
   "cell_type": "code",
   "execution_count": 11,
   "id": "152b4306-5b31-4409-81ea-469352524b00",
   "metadata": {},
   "outputs": [
    {
     "name": "stdout",
     "output_type": "stream",
     "text": [
      "jumlah Developer yang menggunakan bahasa pemrograman java : 200\n",
      "jumlah Developer yang menggunakan bahasa pemrograman python : 198\n",
      "jumlah Developer yang menggunakan bahasa pemrograman javaScript : 190\n",
      "jumlah Developer yang menggunakan bahasa pemrograman C++ : 193\n",
      "jumlah Developer yang menggunakan bahasa pemrograman C# : 219\n"
     ]
    }
   ],
   "source": [
    "#menampilkan jumalah developer yang mengguanakan bahasa pemrograman java, python, javaScript, C++ dan C#\n",
    "jmlJava = df[df['Bahasa pemrograman']=='java']\n",
    "print(f\"jumlah Developer yang menggunakan bahasa pemrograman java : {jmlJava['Bahasa pemrograman'].size}\")\n",
    "\n",
    "jmlPython = df[df['Bahasa pemrograman']=='python']\n",
    "print(f\"jumlah Developer yang menggunakan bahasa pemrograman python : {jmlPython['Bahasa pemrograman'].size}\")\n",
    "\n",
    "jmlJavaScript = df[df['Bahasa pemrograman']=='javaScript']\n",
    "print(f\"jumlah Developer yang menggunakan bahasa pemrograman javaScript : {jmlJavaScript['Bahasa pemrograman'].size}\")\n",
    "\n",
    "jmlCCC = df[df['Bahasa pemrograman']=='C++']\n",
    "print(f\"jumlah Developer yang menggunakan bahasa pemrograman C++ : {jmlCCC['Bahasa pemrograman'].size}\")\n",
    "\n",
    "jmlCc = df[df['Bahasa pemrograman']=='C#']\n",
    "print(f\"jumlah Developer yang menggunakan bahasa pemrograman C# : {jmlCc['Bahasa pemrograman'].size}\")\n"
   ]
  },
  {
   "cell_type": "code",
   "execution_count": 13,
   "id": "24e4470c-4545-42b0-abf3-aaef967de58e",
   "metadata": {},
   "outputs": [
    {
     "name": "stdout",
     "output_type": "stream",
     "text": [
      "jumlah Developer yang berpendidikan SMA : 268\n",
      "jumlah Developer yang berpendidikan SMK : 255\n",
      "jumlah Developer yang berpendidikan Sarjana(s1) : 245\n",
      "jumlah Developer yang berpendidikan Magister(S2) : 232\n"
     ]
    }
   ],
   "source": [
    "#tampilkan jumalah developer yang lulusan SMA, SMK, Sarjana,Magister\n",
    "jmlSMA = df[df['pendidikan']=='SMA']\n",
    "print(f\"jumlah Developer yang berpendidikan SMA : {jmlSMA['pendidikan'].size}\")\n",
    "\n",
    "jmlSMK = df[df['pendidikan']=='SMK']\n",
    "print(f\"jumlah Developer yang berpendidikan SMK : {jmlSMK['pendidikan'].size}\")\n",
    "\n",
    "jmlSarjana = df[df['pendidikan']=='Sarjana']\n",
    "print(f\"jumlah Developer yang berpendidikan Sarjana(s1) : {jmlSarjana['pendidikan'].size}\")\n",
    "\n",
    "jmlMagister = df[df['pendidikan']=='Magister']\n",
    "print(f\"jumlah Developer yang berpendidikan Magister(S2) : {jmlMagister['pendidikan'].size}\")"
   ]
  },
  {
   "cell_type": "code",
   "execution_count": 15,
   "id": "5b67d7af-476f-4f41-8169-e533bcd40265",
   "metadata": {},
   "outputs": [
    {
     "name": "stdout",
     "output_type": "stream",
     "text": [
      "jumlah Developer yang bekerja sebagai Backend Developer : 200\n",
      "jumlah Developer yang bekerja sebagai Frontend Developer : 201\n",
      "jumlah Developer yang bekerja sebagai Fullstack Developer : 189\n",
      "jumlah Developer yang bekerja sebagai Data Scientist : 207\n",
      "jumlah Developer yang bekerja sebagai UI/UX : 203\n"
     ]
    }
   ],
   "source": [
    "#tampilkan jumalah developer yang lulusan SMA, SMK, Sarjana,Magister\n",
    "jmlBD = df[df['peran pekerjaan']=='Backend Developer']\n",
    "print(f\"jumlah Developer yang bekerja sebagai Backend Developer : {jmlBD['peran pekerjaan'].size}\")\n",
    "\n",
    "jmlFD = df[df['peran pekerjaan']=='Frontend Developer']\n",
    "print(f\"jumlah Developer yang bekerja sebagai Frontend Developer : {jmlFD['peran pekerjaan'].size}\")\n",
    "\n",
    "jmlFSD = df[df['peran pekerjaan']=='Fullstack Developer']\n",
    "print(f\"jumlah Developer yang bekerja sebagai Fullstack Developer : {jmlFSD['peran pekerjaan'].size}\")\n",
    "\n",
    "jmlDS = df[df['peran pekerjaan']=='Data Scientist']\n",
    "print(f\"jumlah Developer yang bekerja sebagai Data Scientist : {jmlDS['peran pekerjaan'].size}\")\n",
    "\n",
    "jmlUIUX = df[df['peran pekerjaan']=='UI/UX']\n",
    "print(f\"jumlah Developer yang bekerja sebagai UI/UX : {jmlUIUX['peran pekerjaan'].size}\")"
   ]
  },
  {
   "cell_type": "code",
   "execution_count": 17,
   "id": "5bab2160-3d6e-401e-a868-3a4a0869a429",
   "metadata": {},
   "outputs": [
    {
     "name": "stdout",
     "output_type": "stream",
     "text": [
      "jumlah Developer yang berjabatan junior : 260\n",
      "jumlah Developer yang berjabatan Mid : 230\n",
      "jumlah Developer yang berjabatan Senior : 256\n",
      "jumlah Developer yang berjabatan Leader : 254\n"
     ]
    }
   ],
   "source": [
    "#tampilkan jumalah developer yang lulusan SMA, SMK, Sarjana,Magister\n",
    "jmljunior = df[df['Jabatan kerja']=='junior']\n",
    "print(f\"jumlah Developer yang berjabatan junior : {jmljunior['Jabatan kerja'].size}\")\n",
    "\n",
    "jmlMid = df[df['Jabatan kerja']=='Mid']\n",
    "print(f\"jumlah Developer yang berjabatan Mid : {jmlMid['Jabatan kerja'].size}\")\n",
    "\n",
    "jmlSenior = df[df['Jabatan kerja']=='Senior']\n",
    "print(f\"jumlah Developer yang berjabatan Senior : {jmlSenior['Jabatan kerja'].size}\")\n",
    "\n",
    "jmlLeader = df[df['Jabatan kerja']=='Leader']\n",
    "print(f\"jumlah Developer yang berjabatan Leader : {jmlLeader['Jabatan kerja'].size}\")\n"
   ]
  },
  {
   "cell_type": "code",
   "execution_count": 19,
   "id": "1f04e1f9-a630-4635-8329-3ef85069a1d5",
   "metadata": {},
   "outputs": [
    {
     "name": "stdout",
     "output_type": "stream",
     "text": [
      "       umur  Sertifikasi     gaji  Tugas yang telah di Selesaikan\n",
      "count  1000         1000     1000                            1000\n",
      "mean     28            4  4549000                               9\n",
      "std       3            2  1111230                               5\n",
      "min      23            0  3000000                               0\n",
      "25%      25            2  4000000                               5\n",
      "50%      28            4  5000000                              10\n",
      "75%      31            7  6000000                              15\n",
      "max      34            9  6000000                              19\n"
     ]
    }
   ],
   "source": [
    "print(df[['umur','Sertifikasi','gaji','Tugas yang telah di Selesaikan']].describe().astype(int))"
   ]
  },
  {
   "cell_type": "code",
   "execution_count": 21,
   "id": "d6ddc22f-381b-42a4-a2d8-0a77255254c7",
   "metadata": {},
   "outputs": [
    {
     "name": "stdout",
     "output_type": "stream",
     "text": [
      "pendidikan\n",
      "SMA         268\n",
      "SMK         255\n",
      "Sarjana     245\n",
      "Magister    232\n",
      "Name: count, dtype: int64\n",
      "\n",
      "Bahasa pemrograman\n",
      "C#            219\n",
      "java          200\n",
      "python        198\n",
      "C++           193\n",
      "javaScript    190\n",
      "Name: count, dtype: int64\n",
      "\n",
      "peran pekerjaan\n",
      "Data Scientist         207\n",
      "UI/UX                  203\n",
      "Frontend Developer     201\n",
      "Backend Developer      200\n",
      "Fullstack Developer    189\n",
      "Name: count, dtype: int64\n",
      "\n",
      "tempat kerja\n",
      "rumah/remote     528\n",
      "office/kantor    472\n",
      "Name: count, dtype: int64\n",
      "\n",
      "Jabatan kerja\n",
      "junior    260\n",
      "Senior    256\n",
      "Leader    254\n",
      "Mid       230\n",
      "Name: count, dtype: int64\n"
     ]
    }
   ],
   "source": [
    "#menampilkan jumlah frekuensi\n",
    "print(df['pendidikan'].value_counts())\n",
    "print()\n",
    "print(df['Bahasa pemrograman'].value_counts())\n",
    "print()\n",
    "print(df['peran pekerjaan'].value_counts())\n",
    "print()\n",
    "print(df['tempat kerja'].value_counts())\n",
    "print()\n",
    "print(df['Jabatan kerja'].value_counts())"
   ]
  },
  {
   "cell_type": "code",
   "execution_count": 23,
   "id": "535653b5-59c7-43af-8fb1-c90197fa30fc",
   "metadata": {
    "scrolled": true
   },
   "outputs": [
    {
     "name": "stdout",
     "output_type": "stream",
     "text": [
      "                                    umur      gaji  Sertifikasi  \\\n",
      "umur                            1.000000  0.039689     0.073982   \n",
      "gaji                            0.039689  1.000000     0.001184   \n",
      "Sertifikasi                     0.073982  0.001184     1.000000   \n",
      "Tugas yang telah di Selesaikan -0.008603 -0.071869     0.012449   \n",
      "\n",
      "                                Tugas yang telah di Selesaikan  \n",
      "umur                                                 -0.008603  \n",
      "gaji                                                 -0.071869  \n",
      "Sertifikasi                                           0.012449  \n",
      "Tugas yang telah di Selesaikan                        1.000000  \n"
     ]
    }
   ],
   "source": [
    "#menampilkan korelasi antar kolom numerik yang ada di data\n",
    "print(df.corr(numeric_only=True))"
   ]
  },
  {
   "cell_type": "code",
   "execution_count": 25,
   "id": "8fa09203-6531-4592-96ab-f847757bc3fb",
   "metadata": {},
   "outputs": [],
   "source": [
    "df.to_csv(\"DataDeveloper.csv\")"
   ]
  }
 ],
 "metadata": {
  "kernelspec": {
   "display_name": "Python [conda env:base] *",
   "language": "python",
   "name": "conda-base-py"
  },
  "language_info": {
   "codemirror_mode": {
    "name": "ipython",
    "version": 3
   },
   "file_extension": ".py",
   "mimetype": "text/x-python",
   "name": "python",
   "nbconvert_exporter": "python",
   "pygments_lexer": "ipython3",
   "version": "3.12.7"
  }
 },
 "nbformat": 4,
 "nbformat_minor": 5
}
